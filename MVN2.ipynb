{
 "cells": [
  {
   "cell_type": "code",
   "execution_count": 1,
   "metadata": {},
   "outputs": [],
   "source": [
    "import numpy as np\n",
    "import pandas as pd"
   ]
  },
  {
   "cell_type": "markdown",
   "metadata": {},
   "source": [
    "## Data Generation"
   ]
  },
  {
   "cell_type": "code",
   "execution_count": 2,
   "metadata": {},
   "outputs": [],
   "source": [
    "x1 = np.random.uniform(0,20,100)\n",
    "x3 = np.random.uniform(10,20,100)\n",
    "x2 = np.random.uniform(-15,10,100)\n",
    "sigma12 = 15\n",
    "constant = 2.89\n",
    "Y = x3 + 4.5*x2 +x1 +7*x3 +constant +10*np.random.standard_normal(len(x1))"
   ]
  },
  {
   "cell_type": "markdown",
   "metadata": {},
   "source": [
    "## Modelling  Stadard Form Joint Distribution of x1, x2, x3 and Y"
   ]
  },
  {
   "cell_type": "code",
   "execution_count": 3,
   "metadata": {},
   "outputs": [],
   "source": [
    "data = np.stack((Y,x1,x2,x3),axis = -1)\n",
    "mu = np.mean(data,axis = 0)\n",
    "cov = np.cov(data,rowvar=False)\n",
    "arr = np.random.multivariate_normal(mu,cov,(100))\n",
    "cov2 = np.matrix(cov)"
   ]
  },
  {
   "cell_type": "code",
   "execution_count": 4,
   "metadata": {},
   "outputs": [],
   "source": [
    "cov_r1 ={'Y':cov2[:,0],'x1':cov2[:,1],'x2':cov2[:,2], 'x3':cov2[:,3]}\n"
   ]
  },
  {
   "cell_type": "code",
   "execution_count": 5,
   "metadata": {},
   "outputs": [
    {
     "name": "stdout",
     "output_type": "stream",
     "text": [
      "Printing Covariance Matrix\n",
      "Y [[1577.04754203]\n",
      " [  -7.19789727]\n",
      " [ 246.30089589]\n",
      " [  55.61535059]]\n",
      "x1 [[-7.19789727]\n",
      " [32.68272829]\n",
      " [-7.10584828]\n",
      " [-1.11880159]]\n",
      "x2 [[246.30089589]\n",
      " [ -7.10584828]\n",
      " [ 61.82919298]\n",
      " [ -1.55347405]]\n",
      "x3 [[55.61535059]\n",
      " [-1.11880159]\n",
      " [-1.55347405]\n",
      " [ 8.1277496 ]]\n"
     ]
    }
   ],
   "source": [
    "print('Printing Covariance Matrix')\n",
    "print('Y', cov_r1['Y'])\n",
    "print('x1', cov_r1['x1'])\n",
    "print('x2', cov_r1['x2'])\n",
    "print('x3', cov_r1['x3'])\n"
   ]
  },
  {
   "cell_type": "code",
   "execution_count": 6,
   "metadata": {},
   "outputs": [],
   "source": [
    "mu_r1 = {'mu_Y':mu[0],'mu_x1':mu[1],'mu_x2':mu[2],'mu_x3':mu[3]}"
   ]
  },
  {
   "cell_type": "code",
   "execution_count": 7,
   "metadata": {},
   "outputs": [
    {
     "data": {
      "text/plain": [
       "{'mu_Y': 125.97258268596148,\n",
       " 'mu_x1': 10.539102165024804,\n",
       " 'mu_x2': -1.70602816900933,\n",
       " 'mu_x3': 15.053838162238357}"
      ]
     },
     "execution_count": 7,
     "metadata": {},
     "output_type": "execute_result"
    }
   ],
   "source": [
    "mu_r1"
   ]
  },
  {
   "cell_type": "code",
   "execution_count": 8,
   "metadata": {},
   "outputs": [],
   "source": [
    "np.savetxt('mu_joined.txt',mu,delimiter=',')\n",
    "np.savetxt('cov_joined.txt',cov,delimiter=',')\n",
    "np.savetxt('joined_distribution.txt',arr,delimiter=',')"
   ]
  },
  {
   "cell_type": "markdown",
   "metadata": {},
   "source": [
    "## Standard Form Conditional Distribution P(Y|x)"
   ]
  },
  {
   "cell_type": "code",
   "execution_count": 9,
   "metadata": {},
   "outputs": [],
   "source": [
    "X_c = np.matrix(np.stack((x1,x2,x3),axis = -1))\n",
    "Y = np.matrix(Y).reshape(np.shape(Y)[0],1)\n",
    "mu_y = np.matrix(mu[0])\n",
    "mu_x = np.transpose(np.matrix(mu[1:]))\n",
    "s_yy = np.matrix(cov[0,0])\n",
    "s_xx = np.matrix(cov[1:,1:])\n",
    "s_xy = np.transpose(np.matrix(cov[1:,0]))\n",
    "s_yx = np.transpose(s_xy)\n",
    "beta1 = (s_xx**-1)*s_xy\n",
    "beta0 = np.mean(Y) -np.transpose(beta1)*np.transpose(np.mean(X_c,axis =0))\n",
    "\n",
    "error = s_yy-s_yx*(s_xx**-1)*s_xy\n",
    "z = np.matrix(np.hstack((np.ones((100,1)),X_c)))\n",
    "n = 1\n",
    "z0 =np.matrix(np.hstack((np.ones((n,1)),X_c[0:n,:])))\n",
    "Sigma_hat = z0*(np.transpose(z)*z)**-1*np.transpose(z0)\n",
    "beta_hat = np.matrix(np.vstack((beta0,beta1)))\n",
    "mu_hat = np.transpose(beta_hat)*np.transpose(z0)\n",
    "mu_hat2 = np.array(mu_hat).reshape(n)\n",
    "arr2 = np.random.multivariate_normal(mu_hat2,Sigma_hat,(100))\n"
   ]
  },
  {
   "cell_type": "code",
   "execution_count": 10,
   "metadata": {},
   "outputs": [],
   "source": [
    "np.savetxt('mu_y_y_given_x.txt',mu_y,delimiter=',')\n",
    "np.savetxt('mu_x_y_given_x.txt',mu_x,delimiter=',')\n",
    "np.savetxt('Syy_y_given_x.txt',s_yy,delimiter=',')\n",
    "np.savetxt('Sxx_y_given_x.txt',s_xx,delimiter=',')\n",
    "np.savetxt('Sxy_y_given_x.txt',s_xy,delimiter=',')\n",
    "np.savetxt('Syx_y_given_x.txt',s_yx,delimiter=',')"
   ]
  },
  {
   "cell_type": "code",
   "execution_count": 11,
   "metadata": {},
   "outputs": [],
   "source": [
    "results = {'beta0':beta0,'beta1':beta1}\n",
    "with open('results.txt', 'w') as f:\n",
    "    for key in results.keys():\n",
    "        f.write(\"%s,%s\\n\"%(key,results[key]))\n",
    "np.savetxt('y_given_x.txt',arr2,delimiter = ',')"
   ]
  },
  {
   "cell_type": "markdown",
   "metadata": {},
   "source": [
    "## Information Form, Joined Distribution"
   ]
  },
  {
   "cell_type": "code",
   "execution_count": 12,
   "metadata": {},
   "outputs": [],
   "source": [
    "J = np.matrix(cov)**-1\n",
    "data2 = np.matrix(data[0,:])\n",
    "mu = np.transpose(np.matrix(mu))\n",
    "h = J*mu\n",
    "arg = np.dot(-0.5,data2*J*np.transpose(data2))+np.transpose(h)*np.transpose(data2)\n",
    "Px = np.exp(arg)\n"
   ]
  },
  {
   "cell_type": "code",
   "execution_count": 13,
   "metadata": {},
   "outputs": [
    {
     "name": "stdout",
     "output_type": "stream",
     "text": [
      "[[ 0.01072184 -0.01050622 -0.04601929 -0.08360774]\n",
      " [-0.01050622  0.04188254  0.04885141  0.08699268]\n",
      " [-0.04601929  0.04885141  0.21421847  0.36256246]\n",
      " [-0.08360774  0.08699268  0.36256246  0.7764059 ]]\n"
     ]
    }
   ],
   "source": [
    "print(J)"
   ]
  },
  {
   "cell_type": "code",
   "execution_count": 14,
   "metadata": {},
   "outputs": [
    {
     "data": {
      "text/plain": [
       "matrix([[4354510.67282293]])"
      ]
     },
     "execution_count": 14,
     "metadata": {},
     "output_type": "execute_result"
    }
   ],
   "source": [
    "Px"
   ]
  },
  {
   "cell_type": "code",
   "execution_count": 15,
   "metadata": {},
   "outputs": [],
   "source": [
    "J_r1 ={'Y':J[:,0],'x1':J[:,1],'x2':J[:,2], 'x3':J[:,3]} # J Matrix\n",
    "h_r1 = {'h_Y':h[0],'h_x1':h[1],'h_x2':h[2],'h_x3':h[3]} # h Matrix"
   ]
  },
  {
   "cell_type": "code",
   "execution_count": 16,
   "metadata": {},
   "outputs": [
    {
     "name": "stdout",
     "output_type": "stream",
     "text": [
      "Printing J Matrix\n",
      "Y [[ 0.01072184]\n",
      " [-0.01050622]\n",
      " [-0.04601929]\n",
      " [-0.08360774]]\n",
      "x1 [[-0.01050622]\n",
      " [ 0.04188254]\n",
      " [ 0.04885141]\n",
      " [ 0.08699268]]\n",
      "x2 [[-0.04601929]\n",
      " [ 0.04885141]\n",
      " [ 0.21421847]\n",
      " [ 0.36256246]]\n",
      "x3 [[-0.08360774]\n",
      " [ 0.08699268]\n",
      " [ 0.36256246]\n",
      " [ 0.7764059 ]]\n"
     ]
    }
   ],
   "source": [
    "print('Printing J Matrix')\n",
    "print('Y', J_r1['Y'])\n",
    "print('x1', J_r1['x1'])\n",
    "print('x2', J_r1['x2'])\n",
    "print('x3', J_r1['x3'])\n"
   ]
  },
  {
   "cell_type": "code",
   "execution_count": 17,
   "metadata": {},
   "outputs": [
    {
     "name": "stdout",
     "output_type": "stream",
     "text": [
      "printing h matrix {'h_Y': matrix([[0.05982398]]), 'h_x1': matrix([[0.34414058]]), 'h_x2': matrix([[-0.18982519]]), 'h_x3': matrix([[1.45388868]])}\n"
     ]
    }
   ],
   "source": [
    "print('printing h matrix',h_r1)"
   ]
  },
  {
   "cell_type": "code",
   "execution_count": 18,
   "metadata": {},
   "outputs": [],
   "source": [
    "np.savetxt('Information_Matrix_joined.txt',J,delimiter=',')\n",
    "np.savetxt('h_matrix.txt',h,delimiter =',')\n",
    "np.savetxt('joined_distribution.txt',Px,delimiter =',')"
   ]
  },
  {
   "cell_type": "markdown",
   "metadata": {},
   "source": [
    "## Information Form Conditional Form Y|X"
   ]
  },
  {
   "cell_type": "code",
   "execution_count": 19,
   "metadata": {},
   "outputs": [],
   "source": [
    "data_y =data2[0,0]\n",
    "data_x = data2[:,1:]\n",
    "J_yy = J[0,0]\n",
    "J_xx = J[1:,1:]\n",
    "J_xy = J[1:,0]\n",
    "J_yx = J[0,1:]\n",
    "hy = h[0]\n",
    "hx = h[1:]\n",
    "Arg_ygx = -0.5*(data_y*J_yy*data_y) + (hy-J_yx*np.transpose(data_x))*data_y\n",
    "Py = np.exp(Arg_ygx)"
   ]
  },
  {
   "cell_type": "code",
   "execution_count": 20,
   "metadata": {},
   "outputs": [
    {
     "data": {
      "text/plain": [
       "matrix([[2.53088951e+21]])"
      ]
     },
     "execution_count": 20,
     "metadata": {},
     "output_type": "execute_result"
    }
   ],
   "source": [
    "Py"
   ]
  },
  {
   "cell_type": "code",
   "execution_count": 21,
   "metadata": {},
   "outputs": [],
   "source": [
    "Conditional = {'J_yy':J_yy,'J_xx':J_xx,'J_xy':J_xy,'J_yx':J_yx,'hy':hy,'hx':hx,'input_x':data_x,'input_y':data_y, \\\n",
    "               'distribution':Py}\n",
    "with open('Conditional_information.txt', 'w') as f:\n",
    "    for key in Conditional.keys():\n",
    "        f.write(\"%s,%s\\n\"%(key,Conditional[key]))"
   ]
  },
  {
   "cell_type": "code",
   "execution_count": 22,
   "metadata": {},
   "outputs": [],
   "source": [
    "Conditional = {'J_yy':J_yy,'J_xx':J_xx,'J_xy':J_xy,'J_yx':J_yx,'hy':hy,'hx':hx,'input_x':data_x,'input_y':data_y, \\\n",
    "               'distribution':Py}\n",
    "with open('Conditional_information.txt', 'w') as f:\n",
    "    for key in Conditional.keys():\n",
    "        f.write(\"%s,%s\\n\"%(key,Conditional[key]))"
   ]
  },
  {
   "cell_type": "code",
   "execution_count": 23,
   "metadata": {},
   "outputs": [
    {
     "data": {
      "text/plain": [
       "matrix([[2.53088951e+21]])"
      ]
     },
     "execution_count": 23,
     "metadata": {},
     "output_type": "execute_result"
    }
   ],
   "source": [
    "Py"
   ]
  },
  {
   "cell_type": "code",
   "execution_count": 24,
   "metadata": {},
   "outputs": [
    {
     "data": {
      "text/plain": [
       "\"\\nfrom mpl_toolkits import mplot3d\\nimport matplotlib.pyplot as plt\\nfrom scipy.stats import multivariate_normal\\nx = data[:,1:]\\ny =data[:,0]\\nX, Y = np.meshgrid(x, y)\\npos = np.dstack((X, Y))\\n#mu = np.array([1, 2])\\n#cov = np.array([[.5, .25],[.25, .5]])\\n#rv = multivariate_normal(mu, cov)\\nZ = arr\\nfig = plt.figure()\\nax = fig.add_subplot(111, projection='3d')\\nax.plot_surface(Z[:,0].reshape(100,1),Z[:,1].reshape(100,1),Z[:,3].reshape(100,1))\\nfig.show()\\n\""
      ]
     },
     "execution_count": 24,
     "metadata": {},
     "output_type": "execute_result"
    }
   ],
   "source": [
    "\"\"\"\n",
    "from mpl_toolkits import mplot3d\n",
    "import matplotlib.pyplot as plt\n",
    "from scipy.stats import multivariate_normal\n",
    "x = data[:,1:]\n",
    "y =data[:,0]\n",
    "X, Y = np.meshgrid(x, y)\n",
    "pos = np.dstack((X, Y))\n",
    "#mu = np.array([1, 2])\n",
    "#cov = np.array([[.5, .25],[.25, .5]])\n",
    "#rv = multivariate_normal(mu, cov)\n",
    "Z = arr\n",
    "fig = plt.figure()\n",
    "ax = fig.add_subplot(111, projection='3d')\n",
    "ax.plot_surface(Z[:,0].reshape(100,1),Z[:,1].reshape(100,1),Z[:,3].reshape(100,1))\n",
    "fig.show()\n",
    "\"\"\""
   ]
  },
  {
   "cell_type": "code",
   "execution_count": 25,
   "metadata": {},
   "outputs": [
    {
     "data": {
      "text/plain": [
       "'\"\\nimport numpy as np\\nimport matplotlib.pyplot as plt\\nfrom scipy.stats import multivariate_normal\\nfrom mpl_toolkits.mplot3d import Axes3D\\n\\nx=data[:,2:3]\\ny = data[:,0].reshape(data.shape[0],1)\\ndata2 = np.hstack((y,x))\\nsigma = np.cov(data2,rowvar=False)\\nmu_x = np.mean(x,axis =0)\\nmu_y = np.mean(y)\\nmu2 = np.hstack((mu_y,mu_x))\\nX, Y = np.meshgrid(x,y)\\n\\n\\npos = np.empty(X.shape + (2,))\\npos[:, :, 0] = X; pos[:, :, 1] = Y\\nrv = multivariate_normal(mu2, sigma)\\n\\n#Make a 3D plot\\nfig = plt.figure()\\nax = fig.gca(projection=\\'3d\\')\\nax.plot_surface(X, Y, rv.pdf(pos),cmap=\\'viridis\\',linewidth=0)\\nax.set_xlabel(\\'X axis\\')\\nax.set_ylabel(\\'Y axis\\')\\nax.set_zlabel(\\'Z axis\\')\\nplt.show()\\n'"
      ]
     },
     "execution_count": 25,
     "metadata": {},
     "output_type": "execute_result"
    }
   ],
   "source": [
    "\"\"\"\"\n",
    "import numpy as np\n",
    "import matplotlib.pyplot as plt\n",
    "from scipy.stats import multivariate_normal\n",
    "from mpl_toolkits.mplot3d import Axes3D\n",
    "\n",
    "x=data[:,2:3]\n",
    "y = data[:,0].reshape(data.shape[0],1)\n",
    "data2 = np.hstack((y,x))\n",
    "sigma = np.cov(data2,rowvar=False)\n",
    "mu_x = np.mean(x,axis =0)\n",
    "mu_y = np.mean(y)\n",
    "mu2 = np.hstack((mu_y,mu_x))\n",
    "X, Y = np.meshgrid(x,y)\n",
    "\n",
    "\n",
    "pos = np.empty(X.shape + (2,))\n",
    "pos[:, :, 0] = X; pos[:, :, 1] = Y\n",
    "rv = multivariate_normal(mu2, sigma)\n",
    "\n",
    "#Make a 3D plot\n",
    "fig = plt.figure()\n",
    "ax = fig.gca(projection='3d')\n",
    "ax.plot_surface(X, Y, rv.pdf(pos),cmap='viridis',linewidth=0)\n",
    "ax.set_xlabel('X axis')\n",
    "ax.set_ylabel('Y axis')\n",
    "ax.set_zlabel('Z axis')\n",
    "plt.show()\n",
    "\"\"\""
   ]
  },
  {
   "cell_type": "code",
   "execution_count": 26,
   "metadata": {},
   "outputs": [
    {
     "data": {
      "text/plain": [
       "'\"\\nimport numpy as np\\nimport matplotlib.pyplot as plt\\nfrom scipy.stats import multivariate_normal\\nfrom mpl_toolkits.mplot3d import Axes3D\\n\\n#Parameters to set\\nmu_x = 0\\nvariance_x = 3\\n\\nmu_y = 0\\nvariance_y = 15\\n\\n#Create grid and multivariate normal\\nx = np.linspace(-10,10,500)\\ny = np.linspace(-10,10,500)\\nX, Y = np.meshgrid(x,y)\\npos = np.empty(X.shape + (2,))\\npos[:, :, 0] = X; pos[:, :, 1] = Y\\nrv = multivariate_normal([mu_x, mu_y], [[variance_x, 0], [0, variance_y]])\\n\\n#Make a 3D plot\\nfig = plt.figure()\\nax = fig.gca(projection=\\'3d\\')\\nax.plot_surface(X, Y, rv.pdf(pos),cmap=\\'viridis\\',linewidth=0)\\nax.set_xlabel(\\'X axis\\')\\nax.set_ylabel(\\'Y axis\\')\\nax.set_zlabel(\\'Z axis\\')\\nplt.show()\\n'"
      ]
     },
     "execution_count": 26,
     "metadata": {},
     "output_type": "execute_result"
    }
   ],
   "source": [
    "\"\"\"\"\n",
    "import numpy as np\n",
    "import matplotlib.pyplot as plt\n",
    "from scipy.stats import multivariate_normal\n",
    "from mpl_toolkits.mplot3d import Axes3D\n",
    "\n",
    "#Parameters to set\n",
    "mu_x = 0\n",
    "variance_x = 3\n",
    "\n",
    "mu_y = 0\n",
    "variance_y = 15\n",
    "\n",
    "#Create grid and multivariate normal\n",
    "x = np.linspace(-10,10,500)\n",
    "y = np.linspace(-10,10,500)\n",
    "X, Y = np.meshgrid(x,y)\n",
    "pos = np.empty(X.shape + (2,))\n",
    "pos[:, :, 0] = X; pos[:, :, 1] = Y\n",
    "rv = multivariate_normal([mu_x, mu_y], [[variance_x, 0], [0, variance_y]])\n",
    "\n",
    "#Make a 3D plot\n",
    "fig = plt.figure()\n",
    "ax = fig.gca(projection='3d')\n",
    "ax.plot_surface(X, Y, rv.pdf(pos),cmap='viridis',linewidth=0)\n",
    "ax.set_xlabel('X axis')\n",
    "ax.set_ylabel('Y axis')\n",
    "ax.set_zlabel('Z axis')\n",
    "plt.show()\n",
    "\"\"\""
   ]
  }
 ],
 "metadata": {
  "kernelspec": {
   "display_name": "Python 3",
   "language": "python",
   "name": "python3"
  },
  "language_info": {
   "codemirror_mode": {
    "name": "ipython",
    "version": 3
   },
   "file_extension": ".py",
   "mimetype": "text/x-python",
   "name": "python",
   "nbconvert_exporter": "python",
   "pygments_lexer": "ipython3",
   "version": "3.7.3"
  }
 },
 "nbformat": 4,
 "nbformat_minor": 2
}
